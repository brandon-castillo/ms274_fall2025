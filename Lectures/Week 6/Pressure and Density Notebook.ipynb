{
 "cells": [
  {
   "cell_type": "markdown",
   "id": "d33ddf52-a93f-4b34-8105-424eccfa50b8",
   "metadata": {},
   "source": [
    "# Pressure and Density\n",
    "\n",
    "#### Overview:\n",
    "In this notebook, we will examine how to compute pressure and density using output from an ocean model.\n",
    "\n",
    "#### Import modules\n",
    "Begin by importing modules to conduct calculations and make plots."
   ]
  },
  {
   "cell_type": "code",
   "execution_count": null,
   "id": "30178947-16c8-4653-9146-9bef55eda1a2",
   "metadata": {},
   "outputs": [],
   "source": [
    "import numpy as np\n",
    "import matplotlib.pyplot as plt\n",
    "import xarray as xr"
   ]
  },
  {
   "cell_type": "markdown",
   "id": "ddc05e57-ff0a-45bd-afb7-e48815df4f77",
   "metadata": {},
   "source": [
    "In addition, import the `gsw` package to make oceanographic calculations:"
   ]
  },
  {
   "cell_type": "code",
   "execution_count": null,
   "id": "eadfb86d-4b27-426c-b8ea-36b3f3ed649c",
   "metadata": {},
   "outputs": [],
   "source": [
    "import gsw"
   ]
  },
  {
   "cell_type": "markdown",
   "id": "988c73ac-1234-4566-9458-d8e02e6ed248",
   "metadata": {},
   "source": [
    "## Pressure"
   ]
  },
  {
   "cell_type": "markdown",
   "id": "ab00808d-cce5-4da5-87ef-ecc2c5c87b65",
   "metadata": {},
   "source": [
    "#### Definition\n",
    "Pressure at a given depth $z$ in the ocean can be computed as: \n",
    "$$\n",
    "p = \\int_{-z}^{z_{surface}} \\rho(z) g \\, dz\n",
    "$$\n",
    "\n",
    "In this equation, we see that pressure is dependent on $\\rho$, which is itself a function of depth. Recall that density is also a function of both temperature and salinity - this is the equation of state."
   ]
  },
  {
   "cell_type": "markdown",
   "id": "3f99dd69-e89d-4def-a1b6-c92f1d546151",
   "metadata": {},
   "source": [
    "## Example Profiles:\n",
    "To work through an example of computing density and pressure from ocean model output, we'll look at an example profile in the tropical Pacific. Start by downloading one of the temperature and salinity output fields from ECCO V4:\n",
    "\n",
    "https://podaac.jpl.nasa.gov/dataset/ECCO_L4_TEMP_SALINITY_LLC0090GRID_MONTHLY_V4R4\n",
    "\n",
    "Then, read in the example profiles from a location in Northeast Pacific:"
   ]
  },
  {
   "cell_type": "code",
   "execution_count": null,
   "id": "b810ff7d-d969-4593-b065-f19559c3079d",
   "metadata": {},
   "outputs": [],
   "source": [
    "# read in the data\n",
    "\n",
    "\n",
    "# subset to a location in the east pacific to get a profile of temperature and salinity\n"
   ]
  },
  {
   "cell_type": "markdown",
   "id": "fe45b373-73ea-4975-9538-be544786b619",
   "metadata": {},
   "source": [
    "Then, plot the profiles vertically:"
   ]
  },
  {
   "cell_type": "code",
   "execution_count": null,
   "id": "2b9bfd69-4673-4365-b356-4f01488e2d40",
   "metadata": {},
   "outputs": [],
   "source": [
    "fig = plt.figure(figsize=(5,4))\n",
    "\n",
    "plt.subplot(1,2,1)\n",
    "\n",
    "# plot theta here\n",
    "\n",
    "plt.ylabel('Depth (m)')\n",
    "plt.xlabel('($^{\\circ}$C)')\n",
    "plt.title('Pot. Temperature')\n",
    "plt.grid(linestyle='--', linewidth=0.5, alpha=0.5)\n",
    "\n",
    "plt.subplot(1,2,2)\n",
    "\n",
    "# plot salinity here\n",
    "\n",
    "plt.title('Salinity')\n",
    "plt.xlabel('(g/kg)')\n",
    "plt.gca().set_yticklabels([])\n",
    "plt.grid(linestyle='--', linewidth=0.5, alpha=0.5)\n",
    "\n",
    "plt.show()"
   ]
  },
  {
   "cell_type": "markdown",
   "id": "dd356f0d-5566-46ed-aef9-c0778ecb18fe",
   "metadata": {},
   "source": [
    "#### &#x1F914; Questions for consideration:\n",
    "How do we expect density to vary with depth?"
   ]
  },
  {
   "cell_type": "markdown",
   "id": "28235543-62a0-4982-b4ad-ae76bacaaf32",
   "metadata": {},
   "source": [
    "## Computing Density\n",
    "The equation of state gives\n",
    "\n",
    "$$\n",
    "\\rho = f(S, \\Theta, p)\n",
    "$$\n",
    "\n",
    "That is, $\\rho$ is a function of salinity ($S$), temperature ($\\Theta$) *and* pressure ($p$). So we're in quite the predicament - to compute pressure, we need density, but to compute density, we need pressure!\n",
    "\n",
    "To make things a little simpler, we can use an initial approximation for pressure when computing density using the equation of state. The reason this is a good approximation is that density is not sensitive to small perturbations in density.\n",
    "\n",
    "Let's compute density with the `gsw` toolbox:"
   ]
  },
  {
   "cell_type": "code",
   "execution_count": null,
   "id": "4abcde08-a7b8-415f-a9c1-6c4524450206",
   "metadata": {},
   "outputs": [],
   "source": [
    "# the density equation needs an initial estimate of pressure\n",
    "# a basic approximation can be obtained by gsw with \n",
    "# an estimate based on latitude\n",
    "\n",
    "\n",
    "# then, density can be computed with the pressure estimate\n"
   ]
  },
  {
   "cell_type": "markdown",
   "id": "c39511dc-fe56-4473-a64a-7a77bfe3cc7b",
   "metadata": {},
   "source": [
    "With the density in hand, let's plot the profile:"
   ]
  },
  {
   "cell_type": "code",
   "execution_count": null,
   "id": "14209049-75d6-4062-bc41-fccfa0bc29e8",
   "metadata": {},
   "outputs": [],
   "source": [
    "fig = plt.figure(figsize=(4,4))\n",
    "\n",
    "# plot density here\n",
    "\n",
    "plt.ylabel('Depth (m)')\n",
    "plt.xlabel('(kg/m$^3$)')\n",
    "plt.title('Density')\n",
    "plt.grid(linestyle='--', linewidth=0.5, alpha=0.5)\n",
    "\n",
    "plt.show()"
   ]
  },
  {
   "cell_type": "markdown",
   "id": "c0d9c91d-e4c1-439d-9dbc-68204a7c6dc5",
   "metadata": {},
   "source": [
    "## Compute Pressure\n",
    "The pressure equation for pressure at a given depth $z$\n",
    "\n",
    "$$\n",
    "p(z) = \\int_{-z}^{z_{surface}} \\rho(z) g dz\n",
    "$$\n",
    "\n",
    "can be estimated numerically using\n",
    "\n",
    "$$\n",
    "p(x) \\approx \\sum_k \\rho(z)g\\Delta z\n",
    "$$\n",
    "\n",
    "where the $k$ indices are the sum are the layers from the current depth to the surface. For example, in the surface cell ($k=0$) there are no cells above and the sum is 0; in the next cell deeper ($k=1$) there is one cell above; etc.\n",
    "\n",
    "Clearly, we will need the $\\Delta z$ term - we can read in this from the `drF` field from the ECCO grid file we explored earlier. Let's read that in here:"
   ]
  },
  {
   "cell_type": "code",
   "execution_count": null,
   "id": "41ec5cd6-c682-4089-a130-7ddb0ef4f16c",
   "metadata": {},
   "outputs": [],
   "source": [
    "# read in dZ from the grid file"
   ]
  },
  {
   "cell_type": "markdown",
   "id": "40738368-af45-4e41-9ff5-071cd6904f7b",
   "metadata": {},
   "source": [
    "Using this information, write a loop to compute a profile of pressure using the profile of density computed above."
   ]
  },
  {
   "cell_type": "code",
   "execution_count": null,
   "id": "2d5c3f22-7cea-4ede-8778-0a100f5ae535",
   "metadata": {},
   "outputs": [],
   "source": [
    "# make an empty array the same size as the density array\n",
    "pressure = np.zeros((len(density),))\n",
    "\n",
    "# define g\n",
    "g = 9.81\n",
    "\n",
    "# write a loop (or two) to compute the pressure profile\n"
   ]
  },
  {
   "cell_type": "markdown",
   "id": "9f0b0b7d-a93f-4ba9-95d6-9d5d112f3177",
   "metadata": {},
   "source": [
    "Once you have your pressure integrated, make a plot like the one for density above:"
   ]
  },
  {
   "cell_type": "code",
   "execution_count": null,
   "id": "f230544a-f7a5-4a35-9455-52e099806cbb",
   "metadata": {},
   "outputs": [],
   "source": [
    "fig = plt.figure(figsize=(4,4))\n",
    "\n",
    "# plot pressure here\n",
    "\n",
    "\n",
    "plt.ylabel('Depth (m)')\n",
    "plt.xlabel('(Pa)')\n",
    "plt.title('Pressure')\n",
    "plt.grid(linestyle='--', linewidth=0.5, alpha=0.5)\n",
    "\n",
    "plt.show()"
   ]
  },
  {
   "cell_type": "markdown",
   "id": "cff22afa-a7bb-4219-98b7-f759cd6b3417",
   "metadata": {},
   "source": [
    "Next, convert your pressure to units of decibars. "
   ]
  },
  {
   "cell_type": "code",
   "execution_count": null,
   "id": "10cfa40b-3479-448a-a0a3-00f782c77481",
   "metadata": {},
   "outputs": [],
   "source": [
    "# convert to decibars\n"
   ]
  },
  {
   "cell_type": "markdown",
   "id": "2f211a1c-755e-453e-87e6-6e051ac68454",
   "metadata": {},
   "source": [
    "Then, make a plot:"
   ]
  },
  {
   "cell_type": "code",
   "execution_count": null,
   "id": "995bafaf-50db-4b67-ba43-c700b8b3bb2e",
   "metadata": {},
   "outputs": [],
   "source": [
    "fig = plt.figure(figsize=(4,4))\n",
    "\n",
    "# plot pressure in terms of decibars\n",
    "\n",
    "plt.ylabel('Depth (m)')\n",
    "plt.xlabel('(dbar)')\n",
    "plt.title('Pressure')\n",
    "plt.grid(linestyle='--', linewidth=0.5, alpha=0.5)\n",
    "\n",
    "plt.show()"
   ]
  },
  {
   "cell_type": "markdown",
   "id": "6ac80a68-58e7-43f8-a721-ba16a7b23467",
   "metadata": {},
   "source": [
    "#### &#x1F914; Questions for consideration:\n",
    "1. How does the magnitude of pressure expressed in decibars compare to depth?\n",
    "2. How many meters of water equal the total weight of the atmosphere?"
   ]
  }
 ],
 "metadata": {
  "kernelspec": {
   "display_name": "ms274",
   "language": "python",
   "name": "ms274"
  },
  "language_info": {
   "codemirror_mode": {
    "name": "ipython",
    "version": 3
   },
   "file_extension": ".py",
   "mimetype": "text/x-python",
   "name": "python",
   "nbconvert_exporter": "python",
   "pygments_lexer": "ipython3",
   "version": "3.12.11"
  }
 },
 "nbformat": 4,
 "nbformat_minor": 5
}
