{
 "cells": [
  {
   "cell_type": "markdown",
   "id": "625a3334-5ba1-4f9f-99da-f28c3a968bb5",
   "metadata": {},
   "source": [
    "# The Southern Ocean Reentrant Channel Tutorial\n",
    "This notebook provides an overview of the steps to compile, run, and get familiar with the MITgcm Southern Ocean Reentrant Channel Tutorial experiment.\n",
    "\n",
    "Let's import some modules we'll need to explore this model:"
   ]
  },
  {
   "cell_type": "code",
   "execution_count": 1,
   "id": "0ebe9305-44b0-43a8-aea8-ef36dd935ee7",
   "metadata": {},
   "outputs": [],
   "source": [
    "import os\n",
    "import numpy as np\n",
    "import matplotlib.pyplot as plt\n",
    "import cmocean.cm as cm"
   ]
  },
  {
   "cell_type": "markdown",
   "id": "46f241c8-41c9-4926-8802-8e2b1099f998",
   "metadata": {},
   "source": [
    "## Organize Your Local Directory\n",
    "\n",
    "We're going to run this model on the computing cluster but we'll analyze the results on our local machine. In your folder for this class, create a `model` folder which will store pertinent files from your run directory along with some plots we'll make to visualize and analyze the output. Define a path to the model folder here:"
   ]
  },
  {
   "cell_type": "code",
   "execution_count": 6,
   "id": "a32941b3-f0a1-452d-9eb8-cd30451c0479",
   "metadata": {},
   "outputs": [],
   "source": [
    "model_folder = '/Users/cool/Workspace/MLML/ms274_fall2025/Lectures/Week 7/model'"
   ]
  },
  {
   "cell_type": "markdown",
   "id": "d605015d-21b8-4361-853e-80425d9ba2eb",
   "metadata": {},
   "source": [
    "Up next, let's make sure we have folders for the run files and the plots in this directory:"
   ]
  },
  {
   "cell_type": "code",
   "execution_count": 7,
   "id": "7c776f35-bd71-4ad1-9a04-37cf197de37c",
   "metadata": {},
   "outputs": [],
   "source": [
    "if 'plots' not in os.listdir(model_folder):\n",
    "    os.mkdir(os.path.join(model_folder, 'plots'))\n",
    "if 'run' not in os.listdir(model_folder):\n",
    "    os.mkdir(os.path.join(model_folder, 'run'))"
   ]
  },
  {
   "cell_type": "markdown",
   "id": "312f1b98-9677-4632-bdae-6b28d2f8db1b",
   "metadata": {},
   "source": [
    "## Getting Familiar with the Model Domain\n",
    "Before running a model, it's always a good idea to get familiar with the domain of the model so we know what to expect in the outputs. Let's define some of the key grid parameters here:"
   ]
  },
  {
   "cell_type": "code",
   "execution_count": 19,
   "id": "b86bf125-a0ed-4046-977a-e9c7c9da280c",
   "metadata": {},
   "outputs": [
    {
     "name": "stdout",
     "output_type": "stream",
     "text": [
      "[      0.   50000.  100000.  150000.  200000.  250000.  300000.  350000.\n",
      "  400000.  450000.  500000.  550000.  600000.  650000.  700000.  750000.\n",
      "  800000.  850000.  900000.  950000. 1000000. 1050000. 1100000. 1150000.\n",
      " 1200000. 1250000. 1300000. 1350000. 1400000. 1450000. 1500000. 1550000.\n",
      " 1600000. 1650000. 1700000. 1750000. 1800000. 1850000. 1900000. 1950000.]\n"
     ]
    }
   ],
   "source": [
    "# define the shape of the model grid\n",
    "n_rows = 20\n",
    "n_cols = 40\n",
    "Nr = 49\n",
    "\n",
    "\n",
    " # delX=20*50.E3,\n",
    " # delY=40*50.E3,\n",
    "# define the distances corresponding to the model grid dimensions\n",
    "dx = 50e3\n",
    "dy = 50e3\n",
    "x = np.arange(n_cols) * dx\n",
    "y = np.arange(n_rows) * dy\n",
    "print(x)"
   ]
  },
  {
   "cell_type": "markdown",
   "id": "bdbde5e4-aca6-4f99-be1b-23f75633aaf4",
   "metadata": {},
   "source": [
    "With the grid dimensions in hand, let's take a peek at the model bathymetry file. This file is called `bathy.50km.bin`. Make a copy of this file in your `run` directory and read in the grid:"
   ]
  },
  {
   "cell_type": "code",
   "execution_count": 22,
   "id": "069ceee2-9d76-4e58-a929-0260add0d4e3",
   "metadata": {},
   "outputs": [],
   "source": [
    "# read in the bathymetry grid\n",
    "bathy = np.fromfile(os.path.join(model_folder, 'input', 'bathy.50km.bin'),\n",
    "                    dtype='>f4').reshape((n_cols, n_rows))"
   ]
  },
  {
   "cell_type": "markdown",
   "id": "8ff3f784-6602-4e5b-87cd-3db26bc41d79",
   "metadata": {},
   "source": [
    "Next, let's create a quick plot of the bathymetry grid:"
   ]
  },
  {
   "cell_type": "code",
   "execution_count": 24,
   "id": "f3463b3a-3177-4ca2-9ef0-04ec991b7b54",
   "metadata": {},
   "outputs": [
    {
     "name": "stdout",
     "output_type": "stream",
     "text": [
      "(40, 20)\n"
     ]
    },
    {
     "data": {
      "image/png": "[encoded data removed]",
      "text/plain": [
       "<Figure size 640x480 with 2 Axes>"
      ]
     },
     "metadata": {},
     "output_type": "display_data"
    }
   ],
   "source": [
    "# plot the bathymetry grid\n",
    "\n",
    "plt.pcolormesh(bathy)\n",
    "plt.colorbar()\n",
    "plt.xlabel('long')\n",
    "plt.ylabel('lat')\n",
    "print(np.shape(bathy))"
   ]
  },
  {
   "cell_type": "markdown",
   "id": "9f5fc311-28be-4a32-9489-a0077bb0367b",
   "metadata": {},
   "source": [
    "What features do you see in this bathymetry? Where on the globe is this domain meant to appoximate?"
   ]
  },
  {
   "cell_type": "markdown",
   "id": "01af2ced-bb1a-4929-a3a2-96fc07ee40ab",
   "metadata": {},
   "source": [
    "## Prepare, Compile, and Run the Model Configuration\n",
    "\n",
    "This model configuration is provided with MITgcm so let's navigate over to the `MITgcm/verification/tutorial_reentrant_channel` directory in your MITgcm clone on the computing cluster.\n",
    "\n",
    "### Compiling the Model\n",
    "\n",
    "Since we are on the computing cluster, let's update the `SIZE.h` file to run with multiple processors:\n",
    "\n",
    "```\n",
    "cd code\n",
    "mv SIZE.h SIZE.h_no_mpi\n",
    "mv SIZE.h_mpi SIZE.h\n",
    "```"
   ]
  },
  {
   "cell_type": "markdown",
   "id": "dd19f9b5-f6c2-44e8-88aa-72932591b145",
   "metadata": {},
   "source": [
    "Next, let's compile the model code with MPI:\n",
    "\n",
    "```\n",
    "cd ../build\n",
    "conda activate ms274\n",
    "export MPI_HOME=/scratch/home/[username]/.conda/envs/ms274\n",
    "../../../tools/genmake2 -of ../../../tools/build_options/linux_amd64_gfortran -mods ../code -mpi\n",
    "make depend\n",
    "make\n",
    "```"
   ]
  },
  {
   "cell_type": "markdown",
   "id": "df76b401-b9f0-42bf-8887-ccf0af9ec3c8",
   "metadata": {},
   "source": [
    "### Preparing the Model Run\n",
    "\n",
    "To begin preparing the run directory, let's move to the run directory and then link the pertinent build and input files:\n",
    "\n",
    "```\n",
    "cd ../run\n",
    "ln -s ../input/* .\n",
    "ln -s ../build/mitgcmuv .\n",
    "```\n",
    "\n",
    "This model run is designed to be run for a 30 year time period so that adjustments in the spin-up can get sorted out before the analysis is complete. However, we don't have time for all that in class so I've already run the model for 28 years. We can use the pickup file from this previous model run to examine just the final 2 years of the model.\n",
    "\n",
    "To implement this pickup, download the `pickup.0000870912.data` and `pickup.0000870912.meta` pickup files from Canvas and move them into the run directory. Then, update the data file with the following changes:\n",
    "- nIter0 should be set to the iteration of the pickup files\n",
    "- nTimesteps should be set to enough timesteps for a 2-year \n",
    "- change the monitorFreq to 864000\n",
    "- uncomment `useSingleCpuIO=.TRUE.,`\n",
    "\n",
    "Next, we'll update the diagnostics for this model to faciliate an analysis we'll carry out in the next notebooks. Download the `data.diagnostics` file from Canvas and replace the existing file in the run directory with the new one.\n",
    "\n",
    "### Run the Model\n",
    "\n",
    "With these changes, we're ready to run the model. As always, we'll need to make a job script to submit the code to the queue. \n",
    "\n",
    "Copy over one of your previous job scripts to this directory and edit the number of processors to be set for this job. Then, run the model! This process should take approximately 1 minute of wall-clock time for each model month."
   ]
  },
  {
   "cell_type": "markdown",
   "id": "5c338094-13a1-4920-816b-29b78787fb8f",
   "metadata": {},
   "source": [
    "### Download the Diags directory\n",
    "\n",
    "During this model run, your model should have output a bunch of files into a directory called Diags in the run directory. Download this entire directory onto your local drive in your local run directory. The subsequent analysis notebooks will rely on this output."
   ]
  }
 ],
 "metadata": {
  "kernelspec": {
   "display_name": "ms274",
   "language": "python",
   "name": "ms274"
  },
  "language_info": {
   "codemirror_mode": {
    "name": "ipython",
    "version": 3
   },
   "file_extension": ".py",
   "mimetype": "text/x-python",
   "name": "python",
   "nbconvert_exporter": "python",
   "pygments_lexer": "ipython3",
   "version": "3.12.11"
  }
 },
 "nbformat": 4,
 "nbformat_minor": 5
}
