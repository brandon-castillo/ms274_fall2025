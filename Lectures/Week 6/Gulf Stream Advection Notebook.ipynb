{
 "cells": [
  {
   "cell_type": "markdown",
   "id": "37a15b21-b63a-496f-9f36-18c16f2126f4",
   "metadata": {},
   "source": [
    "# Heat Advection in the Gulf Stream\n",
    "\n",
    "#### Overview:\n",
    "In this notebook, we will examine the advection of heat in the Gulf Stream.\n",
    "\n",
    "#### Import modules\n",
    "Begin by importing modules to conduct calculations and make plots."
   ]
  },
  {
   "cell_type": "code",
   "execution_count": 3,
   "id": "bf8a458e-0fa2-42a5-90e5-202b8d563f45",
   "metadata": {},
   "outputs": [],
   "source": [
    "import numpy as np\n",
    "import matplotlib.pyplot as plt\n",
    "import xarray as xr\n",
    "import cartopy.crs as ccrs\n",
    "import cartopy.feature as cfeature\n",
    "import netCDF4 as nc4"
   ]
  },
  {
   "cell_type": "markdown",
   "id": "ac0afb4d-2c1d-4f80-8ce0-5dbac0f3d559",
   "metadata": {},
   "source": [
    "## Find \"Temperature Flux\" Data\n",
    "\n",
    "In this notebook, we'll use temperature flux data from the ECCO V4 state estimate. The data for this variable is here: \n",
    "https://podaac.jpl.nasa.gov/dataset/ECCO_L4_OCEAN_3D_TEMPERATURE_FLUX_LLC0090GRID_MONTHLY_V4R4\n",
    "\n",
    "Download one file from a month of your choosing."
   ]
  },
  {
   "cell_type": "markdown",
   "id": "78dbc86d-ed39-4e3b-b967-9f3282f142cc",
   "metadata": {},
   "source": [
    "## Read in the Data\n",
    "For this example, read in a subset of model data in the tile corresponding to the east coast of the United States along with the variables for depth, longitude, and latitude. Begin by reading in this data below:"
   ]
  },
  {
   "cell_type": "code",
   "execution_count": 30,
   "id": "106f41d8-4af0-4ab4-a4c3-7f83e2557f78",
   "metadata": {},
   "outputs": [],
   "source": [
    "# advection: water flowing, brings heat if the water flowing through is warmer (water movement)\n",
    "# diffusion: molecular movement (?) \n",
    "# implicit diffusion  \n",
    "\n",
    "# read in your data here\n",
    "ds = nc4.Dataset('OCEAN_3D_TEMPERATURE_FLUX_mon_mean_2015-08_ECCO_V4r4_native_llc0090.nc')\n",
    "ADVx = ds.variables['ADVx_TH'][:,:,:,:,:]\n",
    "ADVy = ds.variables['ADVy_TH'][:,:,:,:,:]\n",
    "ADVr = ds.variables['ADVr_TH'][:,:,:,:,:]\n",
    "\n",
    "\n",
    "DFrI = ds.variables['DFrI_TH'][:,:,:,:,:]\n",
    "DFr = ds.variables['DFrE_TH'][:,:,:,:,:]\n",
    "DFy = ds.variables['DFyE_TH'][:,:,:,:,:]\n",
    "DFx = ds.variables['DFxE_TH'][:,:,:,:,:]\n",
    "\n",
    "XC = ds.variables['XC'][:,:,:]\n",
    "YC = ds.variables['YC'][:,:,:]\n",
    "Z = ds.variables['Z'][:]\n",
    "ds.close()"
   ]
  },
  {
   "cell_type": "markdown",
   "id": "aaa5aa35-fc86-4dff-ba93-6c7b78d52897",
   "metadata": {},
   "source": [
    "With a look forward to the plots we'll make next, determine the minimum and maximum of the data set:"
   ]
  },
  {
   "cell_type": "code",
   "execution_count": 19,
   "id": "ec878e4c-4d52-48a5-ba27-3c935e340d13",
   "metadata": {},
   "outputs": [
    {
     "name": "stdout",
     "output_type": "stream",
     "text": [
      "-13050765.0 6190593.5\n"
     ]
    }
   ],
   "source": [
    "# find the minimum and maximum of the data sets - what are the units?\n",
    "print(ADVx[0,0,10,:,:].min(), ADVx[0,0,10,:,:].max())"
   ]
  },
  {
   "cell_type": "markdown",
   "id": "e6223483-37ca-4d23-b5a6-06e07e82c251",
   "metadata": {},
   "source": [
    "## Plot the Data\n",
    "To get a feel for this data, make a couple plots! Be sure to use a **divergent colorbar** and make the minimum and maximum color bounds the same.\n",
    "\n",
    "### Plot 1: Surface Heat Advection\n",
    "Create a plot showing the northward advection field. In addition, draw a line defined by a subset of rows and columns which is across the Gulf Stream. "
   ]
  },
  {
   "cell_type": "code",
   "execution_count": 72,
   "id": "6eda705a-e587-454c-9d7b-3c05daa697b4",
   "metadata": {},
   "outputs": [
    {
     "name": "stderr",
     "output_type": "stream",
     "text": [
      "/var/folders/pp/fqn1w6qs21s6c54hyr65jbwr0000gs/T/ipykernel_9424/3661841024.py:6: UserWarning: The input coordinates to pcolormesh are interpreted as cell centers, but are not monotonically increasing or decreasing. This may lead to incorrectly calculated cell edges, in which case, please supply explicit cell edges to pcolormesh.\n",
      "  plt.pcolormesh(XC[10,:,:], YC[10,:,:], -ADVx[0,0,10,:,:], cmap='seismic', vmax=1.5e7, vmin=-1.5e7)\n"
     ]
    },
    {
     "data": {
      "image/png": "[encoded data removed]",
      "text/plain": [
       "<Figure size 640x480 with 2 Axes>"
      ]
     },
     "metadata": {},
     "output_type": "display_data"
    }
   ],
   "source": [
    "# define the rows and cols for the plotting line\n",
    "rows = np.arange(40, 70)   # y-direction (latitude indices)\n",
    "cols = np.full_like(rows, 70)  # x fixed at column 60\n",
    "# plt.plot(cols, rows, 'k-', linewidth=2, label=\"Cross-Gulf Stream line\")\n",
    "plt.plot(XC[10,rows,cols], YC[10,rows, cols], 'k-')\n",
    "plt.pcolormesh(XC[10,:,:], YC[10,:,:], -ADVx[0,0,10,:,:], cmap='seismic', vmax=1.5e7, vmin=-1.5e7)\n",
    "plt.colorbar()\n",
    "plt.show()"
   ]
  },
  {
   "cell_type": "markdown",
   "id": "dc7808e1-a704-4897-b4a3-91088cdcfab8",
   "metadata": {},
   "source": [
    "Make your plot here:"
   ]
  },
  {
   "cell_type": "code",
   "execution_count": 37,
   "id": "9c0e2784-fed3-457f-9700-421630a68e90",
   "metadata": {
    "collapsed": true,
    "jupyter": {
     "outputs_hidden": true
    }
   },
   "outputs": [
    {
     "ename": "ValueError",
     "evalue": "cannot reshape array of size 105300 into shape (1,90)",
     "output_type": "error",
     "traceback": [
      "\u001b[31m---------------------------------------------------------------------------\u001b[39m",
      "\u001b[31mValueError\u001b[39m                                Traceback (most recent call last)",
      "\u001b[36mCell\u001b[39m\u001b[36m \u001b[39m\u001b[32mIn[37]\u001b[39m\u001b[32m, line 11\u001b[39m\n\u001b[32m      8\u001b[39m ax = plt.axes(projection=ccrs.Robinson(central_longitude=\u001b[32m0\u001b[39m))\n\u001b[32m     10\u001b[39m \u001b[38;5;66;03m# plot the temperature\u001b[39;00m\n\u001b[32m---> \u001b[39m\u001b[32m11\u001b[39m plt.pcolormesh(XC, YC, -ADVx[\u001b[32m0\u001b[39m,\u001b[32m0\u001b[39m,\u001b[32m10\u001b[39m,:,:], cmap=\u001b[33m'\u001b[39m\u001b[33mturbo\u001b[39m\u001b[33m'\u001b[39m, vmin=-\u001b[32m2\u001b[39m, vmax=\u001b[32m35\u001b[39m,\n\u001b[32m     12\u001b[39m               transform = ccrs.PlateCarree())\n\u001b[32m     13\u001b[39m plt.colorbar(label=\u001b[33m'\u001b[39m\u001b[33mdegrees C\u001b[39m\u001b[33m'\u001b[39m)\n\u001b[32m     15\u001b[39m \u001b[38;5;66;03m# add coastlines\u001b[39;00m\n",
      "\u001b[36mFile \u001b[39m\u001b[32m/opt/miniconda3/envs/ms274/lib/python3.12/site-packages/matplotlib/pyplot.py:3731\u001b[39m, in \u001b[36mpcolormesh\u001b[39m\u001b[34m(alpha, norm, cmap, vmin, vmax, colorizer, shading, antialiased, data, *args, **kwargs)\u001b[39m\n\u001b[32m   3717\u001b[39m \u001b[38;5;129m@_copy_docstring_and_deprecators\u001b[39m(Axes.pcolormesh)\n\u001b[32m   3718\u001b[39m \u001b[38;5;28;01mdef\u001b[39;00m\u001b[38;5;250m \u001b[39m\u001b[34mpcolormesh\u001b[39m(\n\u001b[32m   3719\u001b[39m     *args: ArrayLike,\n\u001b[32m   (...)\u001b[39m\u001b[32m   3729\u001b[39m     **kwargs,\n\u001b[32m   3730\u001b[39m ) -> QuadMesh:\n\u001b[32m-> \u001b[39m\u001b[32m3731\u001b[39m     __ret = gca().pcolormesh(\n\u001b[32m   3732\u001b[39m         *args,\n\u001b[32m   3733\u001b[39m         alpha=alpha,\n\u001b[32m   3734\u001b[39m         norm=norm,\n\u001b[32m   3735\u001b[39m         cmap=cmap,\n\u001b[32m   3736\u001b[39m         vmin=vmin,\n\u001b[32m   3737\u001b[39m         vmax=vmax,\n\u001b[32m   3738\u001b[39m         colorizer=colorizer,\n\u001b[32m   3739\u001b[39m         shading=shading,\n\u001b[32m   3740\u001b[39m         antialiased=antialiased,\n\u001b[32m   3741\u001b[39m         **({\u001b[33m\"\u001b[39m\u001b[33mdata\u001b[39m\u001b[33m\"\u001b[39m: data} \u001b[38;5;28;01mif\u001b[39;00m data \u001b[38;5;129;01mis\u001b[39;00m \u001b[38;5;129;01mnot\u001b[39;00m \u001b[38;5;28;01mNone\u001b[39;00m \u001b[38;5;28;01melse\u001b[39;00m {}),\n\u001b[32m   3742\u001b[39m         **kwargs,\n\u001b[32m   3743\u001b[39m     )\n\u001b[32m   3744\u001b[39m     sci(__ret)\n\u001b[32m   3745\u001b[39m     \u001b[38;5;28;01mreturn\u001b[39;00m __ret\n",
      "\u001b[36mFile \u001b[39m\u001b[32m/opt/miniconda3/envs/ms274/lib/python3.12/site-packages/cartopy/mpl/geoaxes.py:291\u001b[39m, in \u001b[36m_add_transform.<locals>.wrapper\u001b[39m\u001b[34m(self, *args, **kwargs)\u001b[39m\n\u001b[32m    286\u001b[39m     \u001b[38;5;28;01mraise\u001b[39;00m \u001b[38;5;167;01mValueError\u001b[39;00m(\u001b[33mf\u001b[39m\u001b[33m'\u001b[39m\u001b[33mInvalid transform: Spherical \u001b[39m\u001b[38;5;132;01m{\u001b[39;00mfunc.\u001b[34m__name__\u001b[39m\u001b[38;5;132;01m}\u001b[39;00m\u001b[33m \u001b[39m\u001b[33m'\u001b[39m\n\u001b[32m    287\u001b[39m                      \u001b[33m'\u001b[39m\u001b[33mis not supported - consider using \u001b[39m\u001b[33m'\u001b[39m\n\u001b[32m    288\u001b[39m                      \u001b[33m'\u001b[39m\u001b[33mPlateCarree/RotatedPole.\u001b[39m\u001b[33m'\u001b[39m)\n\u001b[32m    290\u001b[39m kwargs[\u001b[33m'\u001b[39m\u001b[33mtransform\u001b[39m\u001b[33m'\u001b[39m] = transform\n\u001b[32m--> \u001b[39m\u001b[32m291\u001b[39m \u001b[38;5;28;01mreturn\u001b[39;00m func(\u001b[38;5;28mself\u001b[39m, *args, **kwargs)\n",
      "\u001b[36mFile \u001b[39m\u001b[32m/opt/miniconda3/envs/ms274/lib/python3.12/site-packages/cartopy/mpl/geoaxes.py:1761\u001b[39m, in \u001b[36mGeoAxes.pcolormesh\u001b[39m\u001b[34m(self, *args, **kwargs)\u001b[39m\n\u001b[32m   1750\u001b[39m \u001b[38;5;250m\u001b[39m\u001b[33;03m\"\"\"\u001b[39;00m\n\u001b[32m   1751\u001b[39m \u001b[33;03mAdd the \"transform\" keyword to :func:`~matplotlib.pyplot.pcolormesh`.\u001b[39;00m\n\u001b[32m   1752\u001b[39m \n\u001b[32m   (...)\u001b[39m\u001b[32m   1757\u001b[39m \n\u001b[32m   1758\u001b[39m \u001b[33;03m\"\"\"\u001b[39;00m\n\u001b[32m   1759\u001b[39m \u001b[38;5;66;03m# Add in an argument checker to handle Matplotlib's potential\u001b[39;00m\n\u001b[32m   1760\u001b[39m \u001b[38;5;66;03m# interpolation when coordinate wraps are involved\u001b[39;00m\n\u001b[32m-> \u001b[39m\u001b[32m1761\u001b[39m args, kwargs = \u001b[38;5;28mself\u001b[39m._wrap_args(*args, **kwargs)\n\u001b[32m   1762\u001b[39m result = \u001b[38;5;28msuper\u001b[39m().pcolormesh(*args, **kwargs)\n\u001b[32m   1763\u001b[39m \u001b[38;5;66;03m# Wrap the quadrilaterals if necessary\u001b[39;00m\n",
      "\u001b[36mFile \u001b[39m\u001b[32m/opt/miniconda3/envs/ms274/lib/python3.12/site-packages/cartopy/mpl/geoaxes.py:1792\u001b[39m, in \u001b[36mGeoAxes._wrap_args\u001b[39m\u001b[34m(self, *args, **kwargs)\u001b[39m\n\u001b[32m   1790\u001b[39m Ny = Y.shape[\u001b[32m0\u001b[39m]\n\u001b[32m   1791\u001b[39m \u001b[38;5;28;01mif\u001b[39;00m X.ndim != \u001b[32m2\u001b[39m \u001b[38;5;129;01mor\u001b[39;00m X.shape[\u001b[32m0\u001b[39m] == \u001b[32m1\u001b[39m:\n\u001b[32m-> \u001b[39m\u001b[32m1792\u001b[39m     X = X.reshape(\u001b[32m1\u001b[39m, Nx).repeat(Ny, axis=\u001b[32m0\u001b[39m)\n\u001b[32m   1793\u001b[39m \u001b[38;5;28;01mif\u001b[39;00m Y.ndim != \u001b[32m2\u001b[39m \u001b[38;5;129;01mor\u001b[39;00m Y.shape[\u001b[32m1\u001b[39m] == \u001b[32m1\u001b[39m:\n\u001b[32m   1794\u001b[39m     Y = Y.reshape(Ny, \u001b[32m1\u001b[39m).repeat(Nx, axis=\u001b[32m1\u001b[39m)\n",
      "\u001b[36mFile \u001b[39m\u001b[32m/opt/miniconda3/envs/ms274/lib/python3.12/site-packages/numpy/ma/core.py:4795\u001b[39m, in \u001b[36mMaskedArray.reshape\u001b[39m\u001b[34m(self, *s, **kwargs)\u001b[39m\n\u001b[32m   4737\u001b[39m \u001b[38;5;250m\u001b[39m\u001b[33;03m\"\"\"\u001b[39;00m\n\u001b[32m   4738\u001b[39m \u001b[33;03mGive a new shape to the array without changing its data.\u001b[39;00m\n\u001b[32m   4739\u001b[39m \n\u001b[32m   (...)\u001b[39m\u001b[32m   4792\u001b[39m \n\u001b[32m   4793\u001b[39m \u001b[33;03m\"\"\"\u001b[39;00m\n\u001b[32m   4794\u001b[39m kwargs.update(order=kwargs.get(\u001b[33m'\u001b[39m\u001b[33morder\u001b[39m\u001b[33m'\u001b[39m, \u001b[33m'\u001b[39m\u001b[33mC\u001b[39m\u001b[33m'\u001b[39m))\n\u001b[32m-> \u001b[39m\u001b[32m4795\u001b[39m result = \u001b[38;5;28mself\u001b[39m._data.reshape(*s, **kwargs).view(\u001b[38;5;28mtype\u001b[39m(\u001b[38;5;28mself\u001b[39m))\n\u001b[32m   4796\u001b[39m result._update_from(\u001b[38;5;28mself\u001b[39m)\n\u001b[32m   4797\u001b[39m mask = \u001b[38;5;28mself\u001b[39m._mask\n",
      "\u001b[31mValueError\u001b[39m: cannot reshape array of size 105300 into shape (1,90)"
     ]
    },
    {
     "data": {
      "text/plain": [
       "<Figure size 640x480 with 0 Axes>"
      ]
     },
     "metadata": {},
     "output_type": "display_data"
    },
    {
     "data": {
      "image/png": "[encoded data removed]",
      "text/plain": [
       "<Figure size 640x480 with 1 Axes>"
      ]
     },
     "metadata": {},
     "output_type": "display_data"
    }
   ],
   "source": [
    "# make a figure object and axes\n",
    "# use cartopy if you're feeling fancy\n",
    "plt.figure()\n",
    "\n",
    "# plot the advection field\n",
    "\n",
    "# plot a  line at the rows and columns indicated\n",
    "\n",
    "\n",
    "# format the axes\n",
    "plt.title('Northward Heat Advection (Surface)')\n",
    "plt.show()"
   ]
  },
  {
   "cell_type": "markdown",
   "id": "b7862b5b-16c4-46e4-a99f-bf229204e599",
   "metadata": {},
   "source": [
    "### Plot 2: Advection Cross-Section\n",
    "Plot a cross-section of the advection field along the line indicated above (using the given rows and columns). The $x$-axis should display longitude and the $y$-axis should display depth."
   ]
  },
  {
   "cell_type": "code",
   "execution_count": 64,
   "id": "568f982a-3bae-49d6-a106-d82b6016e606",
   "metadata": {},
   "outputs": [
    {
     "data": {
      "image/png": "[encoded data removed]",
      "text/plain": [
       "<Figure size 800x400 with 2 Axes>"
      ]
     },
     "metadata": {},
     "output_type": "display_data"
    }
   ],
   "source": [
    "# make a figure object\n",
    "plt.figure(figsize=(8,4))\n",
    "\n",
    "# plot the data here\n",
    "plt.pcolormesh(XC[10,rows,70], Z, -ADVx[0,:,10,rows,70].T, cmap='seismic', vmin=-1.5e7,vmax=1.5e7)\n",
    "\n",
    "# format the axes\n",
    "plt.colorbar()\n",
    "plt.ylabel('Depth (m)')\n",
    "plt.xlabel('Longitude')\n",
    "plt.title('Northward Heat Advection')\n",
    "plt.show()"
   ]
  },
  {
   "cell_type": "markdown",
   "id": "6b765c44-9fcf-4292-8919-990f52b36254",
   "metadata": {},
   "source": [
    "## Compute Total Northward Heat Transport\n",
    "Next, let's consider how much heat is advected toward the polar regions from the tropics by the Gulf Stream. First, consider the total \"temperature advection\" as given by the data set. In other words, sum all of the cells in the cross-section defined above:"
   ]
  },
  {
   "cell_type": "code",
   "execution_count": 74,
   "id": "ce19ebb7-8a69-4cff-92c9-873fce14c329",
   "metadata": {},
   "outputs": [
    {
     "name": "stdout",
     "output_type": "stream",
     "text": [
      "564376500.0\n"
     ]
    }
   ],
   "source": [
    "# comput the sum and print it\n",
    "heat_transport_through_gulfstream = np.sum(-ADVx[0,:,10,rows,65])\n",
    "print(heat_transport_through_gulfstream)"
   ]
  },
  {
   "cell_type": "markdown",
   "id": "6459eb0e-5b9b-4151-ae8f-814e47b3aefd",
   "metadata": {},
   "source": [
    "##### Convert to Watts\n",
    "\"Temperature advection\" is a bit of an odd unit. A more conventional unit is Watts - the total Joules per second that pass through a given cross-section. To convert to Watts, we'll need to consider the *heat capacity* and the *density* of sea water:\n",
    "\n",
    "$$\n",
    "\\begin{align*}\n",
    "C_p &= 3850 \\text{ J kg}^{-1}\\, \\,^{\\circ}\\text{ C}^{-1}\\\\\n",
    "\\rho_w &= 1025 \\text{ kg m}^{-3}\n",
    "\\end{align*}\n",
    "$$"
   ]
  },
  {
   "cell_type": "code",
   "execution_count": 75,
   "id": "56994c8c-33b6-43ba-8a80-9c1d63e1b512",
   "metadata": {},
   "outputs": [],
   "source": [
    "Cp = 3850 # J / (kg C)\n",
    "rho = 1025 # kg / m3"
   ]
  },
  {
   "cell_type": "markdown",
   "id": "c19f073c-555c-49cc-97c8-3d789b123c0c",
   "metadata": {},
   "source": [
    "Using a dimensional analysis approach, compute the total watts of northward heat transport through the Gulf Stream."
   ]
  },
  {
   "cell_type": "code",
   "execution_count": 76,
   "id": "7942553c-9bbb-4413-b3e3-3f4d949bf3ff",
   "metadata": {},
   "outputs": [],
   "source": [
    "W = heat_transport_through_gulfstream * Cp * rho"
   ]
  },
  {
   "cell_type": "markdown",
   "id": "4a5431c1-de4a-4d93-bf6d-de225e310d7f",
   "metadata": {},
   "source": [
    "This number can be printed in scientific notation with the following syntax: `\"{:.2E}\".format(W)`"
   ]
  },
  {
   "cell_type": "code",
   "execution_count": 77,
   "id": "d9cdb6bd-2ead-49d0-ac94-6515113582da",
   "metadata": {},
   "outputs": [
    {
     "data": {
      "text/plain": [
       "'2.23E+15'"
      ]
     },
     "execution_count": 77,
     "metadata": {},
     "output_type": "execute_result"
    }
   ],
   "source": [
    "\"{:.2E}\".format(W)"
   ]
  },
  {
   "cell_type": "markdown",
   "id": "ae3ad954-924c-4b1a-b77e-039254ae97b1",
   "metadata": {},
   "source": [
    "#### Putting it in context\n",
    "It's hard to imagine what 10$^{15}$ W (a.k.a. a Petawatt, PW) really is. To put this in context, let's consider how it stacks up to the total flux of energy absorbed by the Earth. On each meter squared of Earth, the per-unit energy flux is:"
   ]
  },
  {
   "cell_type": "code",
   "execution_count": 80,
   "id": "e04e4186-9b2a-477d-8a0e-3586b79ae988",
   "metadata": {},
   "outputs": [],
   "source": [
    "S = 340 # W / m^2"
   ]
  },
  {
   "cell_type": "markdown",
   "id": "f3c57b0f-b806-47a4-a4fe-bfef71998741",
   "metadata": {},
   "source": [
    "Using the above value, compute the total amount of watts absorbed by the surface of the Earth. The radius of Earth is 6371 km."
   ]
  },
  {
   "cell_type": "code",
   "execution_count": 83,
   "id": "967f80cc-33e7-4bd2-9988-0f4db4682f26",
   "metadata": {},
   "outputs": [
    {
     "data": {
      "text/plain": [
       "'1.73E+17'"
      ]
     },
     "execution_count": 83,
     "metadata": {},
     "output_type": "execute_result"
    }
   ],
   "source": [
    "W_earth = S * 4 * np.pi * (6371000)**2\n",
    "\"{:.2E}\".format(W_earth)"
   ]
  },
  {
   "cell_type": "markdown",
   "id": "dec8279b-b3dc-46d6-811b-7248978818fe",
   "metadata": {},
   "source": [
    "What percentage of Earth's absorbed energy is funneled through the Gulf Stream?"
   ]
  },
  {
   "cell_type": "code",
   "execution_count": 84,
   "id": "43e54867-8955-48fe-a13a-f0ed4d3631db",
   "metadata": {},
   "outputs": [
    {
     "data": {
      "text/plain": [
       "np.float32(1.28425)"
      ]
     },
     "execution_count": 84,
     "metadata": {},
     "output_type": "execute_result"
    }
   ],
   "source": [
    "100 * W/W_earth"
   ]
  },
  {
   "cell_type": "markdown",
   "id": "9d36d74f-5264-4219-a37e-9a31edbc8f06",
   "metadata": {},
   "source": [
    "That might not seem like a lot, but consider that the Gulf Stream makes up a tiny fraction of the ocean, not to mention the land masses and atmosphere!"
   ]
  }
 ],
 "metadata": {
  "kernelspec": {
   "display_name": "Python 3 (ipykernel)",
   "language": "python",
   "name": "python3"
  },
  "language_info": {
   "codemirror_mode": {
    "name": "ipython",
    "version": 3
   },
   "file_extension": ".py",
   "mimetype": "text/x-python",
   "name": "python",
   "nbconvert_exporter": "python",
   "pygments_lexer": "ipython3",
   "version": "3.12.11"
  }
 },
 "nbformat": 4,
 "nbformat_minor": 5
}
